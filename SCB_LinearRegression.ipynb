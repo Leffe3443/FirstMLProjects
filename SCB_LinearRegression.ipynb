{
  "nbformat": 4,
  "nbformat_minor": 0,
  "metadata": {
    "colab": {
      "provenance": []
    },
    "kernelspec": {
      "name": "python3",
      "display_name": "Python 3"
    },
    "language_info": {
      "name": "python"
    }
  },
  "cells": [
    {
      "cell_type": "markdown",
      "source": [
        "# Project description\n",
        "\n",
        "Statistics used:\n",
        "\n",
        "https://www.statistikdatabasen.scb.se/pxweb/sv/ssd/START__OE__OE0108/KomFtgK100/table/tableViewLayout1/\n",
        "\n",
        "Python module for SCB api usage:\n",
        "\n",
        "https://github.com/kirajcg/pyscbwrapper/blob/master/pyscbwrapper.ipynb"
      ],
      "metadata": {
        "id": "_y6effQayibZ"
      }
    },
    {
      "cell_type": "markdown",
      "source": [
        "# Importing requirements"
      ],
      "metadata": {
        "id": "ajup10OGyrjG"
      }
    },
    {
      "cell_type": "code",
      "execution_count": 54,
      "metadata": {
        "id": "Zuwt5LDcyBQs"
      },
      "outputs": [],
      "source": [
        "import json\n",
        "# from urllib import request, response\n",
        "import requests\n",
        "import pandas as pd\n",
        "\n",
        "from sklearn.metrics import accuracy_score\n",
        "from sklearn.metrics import explained_variance_score\n",
        "\n",
        "from sklearn.preprocessing import StandardScaler\n",
        "from sklearn.model_selection import train_test_split\n",
        "\n",
        "from sklearn.svm import SVC\n",
        "from sklearn import linear_model"
      ]
    },
    {
      "cell_type": "markdown",
      "source": [
        "# Data gathering and formatting"
      ],
      "metadata": {
        "id": "XKjdQdlCyPAq"
      }
    },
    {
      "cell_type": "markdown",
      "source": [
        "# Request"
      ],
      "metadata": {
        "id": "KnQoQN3Jy1Vd"
      }
    },
    {
      "cell_type": "code",
      "source": [
        "api_url = \"https://api.scb.se/OV0104/v1/doris/sv/ssd/START/OE/OE0108/KomFtgK100\"\n",
        "\n",
        "user_agent = \"Mozilla/5.0 (Windows NT 6.1; Win64; x64\"\n",
        "headers = {\n",
        "    'Content-Type' : 'application/json',\n",
        "    \"User-Agent\" : user_agent,\n",
        "\n",
        "    }\n",
        "\n",
        "\n",
        "payload = {\n",
        "  \"query\": [\n",
        "    {\n",
        "      \"code\": \"ContentsCode\",\n",
        "      \"selection\": {\n",
        "        \"filter\": \"item\",\n",
        "        \"values\": [\n",
        "          \"00000190\"\n",
        "        ]\n",
        "      }\n",
        "    }\n",
        "  ],\n",
        "  \"response\": {\n",
        "    \"format\": \"json\"\n",
        "  }\n",
        "}\n",
        "\n",
        "\n",
        "json_data = json.dumps(payload)\n"
      ],
      "metadata": {
        "id": "U5KC45CXySDZ"
      },
      "execution_count": 3,
      "outputs": []
    },
    {
      "cell_type": "markdown",
      "source": [
        "# Data"
      ],
      "metadata": {
        "id": "EeYRahaly5gD"
      }
    },
    {
      "cell_type": "markdown",
      "source": [
        "**Request**"
      ],
      "metadata": {
        "id": "_kpJtL_Fzrot"
      }
    },
    {
      "cell_type": "code",
      "source": [
        "api_call = requests.post(url=api_url, data=json_data, headers=headers)\n",
        "\n",
        "if api_call.status_code != 200:\n",
        "  print(\"Status code:\", api_call.status_code)\n",
        "  print(\"Reason:\", api_call.reason)\n",
        "  print(\"Response headers:\", api_call.headers)\n",
        "else:\n",
        "  print(\"Status code:\", api_call.status_code)\n",
        "  print(\"Request successful\")\n",
        "  print(\"Response headers:\", api_call.headers)\n",
        "\n"
      ],
      "metadata": {
        "id": "iOnUpG8By7Ah",
        "colab": {
          "base_uri": "https://localhost:8080/"
        },
        "outputId": "d719d9eb-70e7-4659-c2b9-74658d1987b5"
      },
      "execution_count": 4,
      "outputs": [
        {
          "output_type": "stream",
          "name": "stdout",
          "text": [
            "Status code: 200\n",
            "Request successful\n",
            "Response headers: {'Cache-Control': 'private', 'Content-Type': 'application/json; charset=utf-8', 'Date': 'Mon, 14 Oct 2024 12:55:39 GMT', 'Content-Length': '91086', 'Access-Control-Allow-Origin': '*', 'Access-Control-Allow-Methods': 'GET,POST', 'Access-Control-Max-Age': '86400', 'Allow': 'GET,HEAD,POST,OPTIONS', 'Vary': 'Origin', 'Strict-Transport-Security': 'max-age=31536000; includeSubDomains', 'Set-Cookie': 'TS0187a64b=017dca055c7f1ccaeaef1881327e6778d5b858126b2c3fb2416919546c825ac2c1264175035f404b568b6e0cb1110a7b7b00347e5b; Path=/; Domain=.api.scb.se; Secure; HttpOnly; '}\n"
          ]
        }
      ]
    },
    {
      "cell_type": "code",
      "source": [
        "json_response = api_call.json()\n",
        "\n",
        "data_only = json_response.get('data', [])\n",
        "\n",
        "df = pd.DataFrame(data_only)\n",
        "\n",
        "df[['region', 'year']] = pd.DataFrame(df['key'].tolist(), index=df.index)\n",
        "\n",
        "df['year'] = df['year'].str[:4]\n",
        "\n",
        "df['value'] = df['values'].apply(lambda x: x[0] if isinstance(x, list) else x)\n",
        "\n",
        "df_pivot = df.pivot(index='region', columns='year', values='value')\n",
        "\n",
        "df_pivot.to_csv('pivoted_region_years_values.csv')\n",
        "\n",
        "print(\"Pivoted data with values saved to pivoted_region_years_values.csv\")\n",
        "\n"
      ],
      "metadata": {
        "id": "qojwm4yZ9b8K"
      },
      "execution_count": null,
      "outputs": []
    },
    {
      "cell_type": "code",
      "source": [
        "df2 = pd.read_csv(\"pivoted_region_years_values.csv\", index_col=False)\n",
        "\n",
        "# df2.head(20)\n"
      ],
      "metadata": {
        "id": "he1gj6PJnkpZ"
      },
      "execution_count": 45,
      "outputs": []
    },
    {
      "cell_type": "markdown",
      "source": [
        "# Plot raw data"
      ],
      "metadata": {
        "id": "pXrIzhVbsmxC"
      }
    },
    {
      "cell_type": "markdown",
      "source": [
        "# Predictions"
      ],
      "metadata": {
        "id": "mR6O0rIKH1tT"
      }
    },
    {
      "cell_type": "code",
      "source": [
        "X = df2.drop(columns=[\"2016\", 'region'], axis=1)\n",
        "y = df2[\"2016\"]\n",
        "\n",
        "\n",
        "X_train, X_test, y_train, y_test = train_test_split(X, y, train_size=0.3, random_state=45)\n",
        "\n",
        "scaler = StandardScaler()\n",
        "\n",
        "X_train = scaler.fit_transform(X_train)\n",
        "X_test = scaler.transform(X_test)\n",
        "\n",
        "# svm = SVC()\n",
        "linear = linear_model.LinearRegression()\n",
        "\n",
        "linear.fit(X_train, y_train)\n",
        "\n",
        "y_pred = linear.predict(X_test)\n",
        "\n",
        "accuracy = explained_variance_score(y_test, y_pred)\n",
        "\n",
        "print(\"Accuracy:\", accuracy)\n"
      ],
      "metadata": {
        "colab": {
          "base_uri": "https://localhost:8080/"
        },
        "id": "1bVu6A87H3QK",
        "outputId": "b80d3d3b-f41b-4eda-9b96-dd0ee08b5a8f"
      },
      "execution_count": 59,
      "outputs": [
        {
          "output_type": "stream",
          "name": "stdout",
          "text": [
            "Accuracy: 0.9905856352387017\n"
          ]
        }
      ]
    },
    {
      "cell_type": "markdown",
      "source": [
        "**Accuracy with SVM:** 0.5-0.58\n",
        "\n",
        "**Explained variance score with Linear regression:** 0.99"
      ],
      "metadata": {
        "id": "0BjCzSqmSxXz"
      }
    }
  ]
}